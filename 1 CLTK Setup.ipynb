{
 "cells": [
  {
   "cell_type": "markdown",
   "metadata": {},
   "source": [
    "# Install Python\n",
    "\n",
    "## Mac\n",
    "\n",
    "See <https://www.python.org/downloads/> (current version is 3.6.4).\n",
    "\n",
    "\n",
    "## Linux\n",
    "\n",
    "Open Terminal and check current version with `python --version` or `python3 --version`. If 3.4 or 3.5, you're fine. If Python version is out of date, run these:\n",
    "\n",
    "``` bash\n",
    "$ curl -O https://raw.githubusercontent.com/kylepjohnson/python3_bootstrap/master/install.sh\n",
    "$ chmod +x install.sh\n",
    "$ ./install.sh\n",
    "```\n",
    "\n",
    "This Linux build from source will take around 5 minutes."
   ]
  },
  {
   "cell_type": "markdown",
   "metadata": {},
   "source": [
    "# Install Git\n",
    "\n",
    "The CLTK uses Git for corpus management. For Mac, install it from here: <https://git-scm.com/downloads>. For Linux, check if present (`git --version`); if not then use your package manager to get it (e.g., `apt-get install git`)."
   ]
  },
  {
   "cell_type": "markdown",
   "metadata": {},
   "source": [
    "# Create a virtual environment\n",
    "\n",
    "This makes a special environment (a \"sandbox\") just for the CLTK. If something goes wrong, you can just delete it and start again.\n",
    "\n",
    "- Recommended setup using [pipenv](https://docs.pipenv.org/)\n",
    "    - Install pipenv  \n",
    "    ```$ pip install pipenv```  \n",
    "    \n",
    "    - Activate virtual environment with pipenv  \n",
    "    ``` $ mkdir -p ~/envs/cltk-tutorial  \n",
    "$ cd ~/envs/cltk-tutorial  \n",
    "$ pipenv shell```\n",
    "  \n",
    "    \n",
    "- Alternative virtual environment using venv\n",
    "    - ```$ mkdir -p ~/envs/cltk-tutorial\n",
    "$ cd ~/envs/cltk-tutorial\n",
    "$ cd cltk-tutorial\n",
    "$ python3.6 -m venv venv\n",
    "$ source venv/bin/activate```\n",
    "    - Note that every time you open a new Terminal window, you'll need to \"activate\" this environment with source ~/cltk/venv/bin/activate."
   ]
  },
  {
   "cell_type": "markdown",
   "metadata": {},
   "source": [
    "# Install CLTK\n",
    "\n",
    "``` bash\n",
    "$ pipenv install cltk\n",
    "\n",
    "or\n",
    "\n",
    "$ pip install cltk\n",
    "```\n",
    "\n",
    "This will take a few minutes, as it will install several \"dependencies\", being other Python libraries which the CLTK uses.\n",
    "\n",
    "Also install Jupyter, which is a really handy way of writing code.\n",
    "\n",
    "``` bash\n",
    "$ pipenv install jupyter\n",
    "\n",
    "or\n",
    "\n",
    "$ pip install jupyter\n",
    "\n",
    "```"
   ]
  },
  {
   "cell_type": "markdown",
   "metadata": {},
   "source": [
    "# Test Jupyter\n",
    "\n",
    "From your `cltk` directory, launch a notebook (such as this one) from the Terminal with `jupyter notebook`. Then open your preferred browser to <http://localhost:8888>."
   ]
  },
  {
   "cell_type": "markdown",
   "metadata": {},
   "source": [
    "# Download these tutorials\n",
    "\n",
    "You may find these instructions at <https://github.com/cltk/tutorials>."
   ]
  },
  {
   "cell_type": "markdown",
   "metadata": {},
   "source": [
    "# Join GitHub\n",
    "\n",
    "GitHub is a nice way to share code. Come visit us at <https://github.com/cltk/cltk/>!"
   ]
  }
 ],
 "metadata": {
  "kernelspec": {
   "display_name": "Python 3",
   "language": "python",
   "name": "python3"
  },
  "language_info": {
   "codemirror_mode": {
    "name": "ipython",
    "version": 3
   },
   "file_extension": ".py",
   "mimetype": "text/x-python",
   "name": "python",
   "nbconvert_exporter": "python",
   "pygments_lexer": "ipython3",
   "version": "3.6.5"
  }
 },
 "nbformat": 4,
 "nbformat_minor": 1
}
